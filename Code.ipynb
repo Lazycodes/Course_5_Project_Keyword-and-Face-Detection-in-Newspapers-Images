{
 "cells": [
  {
   "cell_type": "markdown",
   "metadata": {},
   "source": [
    "# Image Processing and Face Detection\n",
    "This notebook performs image processing using OpenCV, Tesseract, and PIL to extract text and detect faces from images in a zip file.\n",
    "\n",
    "## Steps:\n",
    "1. Extract images from a zip file.\n",
    "2. Detect faces in the images.\n",
    "3. Extract text from the images using OCR.\n",
    "4. Create a contact sheet for the detected faces.\n"
   ]
  },
  {
   "cell_type": "code",
   "execution_count": 1,
   "id": "ba7edf99",
   "metadata": {},
   "outputs": [],
   "source": [
    "# importing necessary libraries\n",
    "import zipfile\n",
    "from PIL import Image, ImageDraw\n",
    "import pytesseract\n",
    "import cv2 as cv\n",
    "import numpy as np\n",
    "import os\n",
    "import shutil\n",
    "from IPython.display import display"
   ]
  },
  {
   "cell_type": "code",
   "execution_count": 2,
   "id": "7432ab22",
   "metadata": {},
   "outputs": [],
   "source": [
    "# Load the face detection classifier from OpenCV's pre-trained models\n",
    "face_cascade = cv.CascadeClassifier(cv.data.haarcascades + 'haarcascade_frontalface_default.xml')\n",
    "\n",
    "# Function to clear or create a directory\n",
    "def clear_directory(output_dir):\n",
    "    \"\"\"\n",
    "    Clears the contents of a directory if it exists; otherwise, creates the directory.\n",
    "    Args:\n",
    "        output_dir (str): The path to the directory to be cleared or created.\n",
    "    \"\"\"\n",
    "    if os.path.exists(output_dir):\n",
    "        for filename in os.listdir(output_dir):\n",
    "            file_path = os.path.join(output_dir, filename)\n",
    "            try:\n",
    "                if os.path.isfile(file_path) or os.path.islink(file_path):\n",
    "                    os.unlink(file_path)\n",
    "                elif os.path.isdir(file_path):\n",
    "                    shutil.rmtree(file_path)\n",
    "            except Exception as e:\n",
    "                print(f'Failed to delete {file_path}. Reason: {e}')\n",
    "    else:\n",
    "        os.makedirs(output_dir)"
   ]
  },
  {
   "cell_type": "code",
   "execution_count": 3,
   "id": "9fc0de2b",
   "metadata": {},
   "outputs": [],
   "source": [
    "# Function to extract images from a ZIP file\n",
    "def extract_zip(zip_path, output_dir):\n",
    "    \"\"\"\n",
    "    Extracts files from a ZIP archive to a specified output directory.\n",
    "    Args:\n",
    "        zip_path (str): The path to the ZIP file.\n",
    "        output_dir (str): The path to the output directory.\n",
    "    Returns:\n",
    "        str: The path to the output directory.\n",
    "    \"\"\"\n",
    "    clear_directory(output_dir)\n",
    "    with zipfile.ZipFile(zip_path, \"r\") as zippie:\n",
    "        zippie.extractall(output_dir)\n",
    "        return output_dir\n"
   ]
  },
  {
   "cell_type": "code",
   "execution_count": 4,
   "id": "84a07fbf",
   "metadata": {},
   "outputs": [],
   "source": [
    "# Function to list all files in a directory\n",
    "def list_of_files(output_dir):\n",
    "    \"\"\"\n",
    "    Lists all files in a specified directory.\n",
    "    Args:\n",
    "        output_dir (str): The path to the directory.\n",
    "    Returns:\n",
    "        list: List of filenames in the directory.\n",
    "    \"\"\"\n",
    "    return os.listdir(output_dir)"
   ]
  },
  {
   "cell_type": "code",
   "execution_count": 5,
   "id": "b96bdf49",
   "metadata": {},
   "outputs": [],
   "source": [
    "# Function to access files in a directory\n",
    "def access_file(output_dir):\n",
    "    \"\"\"\n",
    "    Accesses files in the specified directory.\n",
    "    Args:\n",
    "        output_dir (str): The path to the directory.\n",
    "    Returns:\n",
    "        list: List of filenames in the directory.\n",
    "    \"\"\"\n",
    "    return os.listdir(output_dir)"
   ]
  },
  {
   "cell_type": "code",
   "execution_count": 6,
   "id": "061b2d65",
   "metadata": {},
   "outputs": [],
   "source": [
    "# Function to extract text from images using Tesseract OCR\n",
    "def read_text_from_files(output_dir):\n",
    "    \"\"\"\n",
    "    Reads and extracts text from images in a directory using Tesseract OCR.\n",
    "    Args:\n",
    "        output_dir (str): The path to the directory containing images.\n",
    "    Returns:\n",
    "        list: List of text strings extracted from each image.\n",
    "    \"\"\"\n",
    "    list_of_texts = []\n",
    "    files = access_file(output_dir)\n",
    "    for file in files:\n",
    "        pic = Image.open(output_dir + \"/\" + file)\n",
    "        if pic.mode != \"1\":\n",
    "            pic.convert(\"1\")\n",
    "        words = pytesseract.image_to_string(pic)\n",
    "        list_of_texts.append(words)\n",
    "    return list_of_texts"
   ]
  },
  {
   "cell_type": "code",
   "execution_count": 7,
   "id": "253fc953",
   "metadata": {},
   "outputs": [],
   "source": [
    "# Function to detect faces in images\n",
    "def rec_faces(output_dir):\n",
    "    \"\"\"\n",
    "    Detects faces in images within a specified directory using OpenCV.\n",
    "    Args:\n",
    "        output_dir (str): The path to the directory containing images.\n",
    "    Returns:\n",
    "        list: List of face coordinates for each image.\n",
    "    \"\"\"\n",
    "    list_of_faces = []\n",
    "    for file in access_file(output_dir):\n",
    "        cv_image = cv.imread(output_dir + \"/\" + file)\n",
    "        gray = cv.cvtColor(cv_image, cv.COLOR_BGR2GRAY)\n",
    "        faces = face_cascade.detectMultiScale(gray, 1.334, minNeighbors=5)\n",
    "        if isinstance(faces, np.ndarray):\n",
    "            list_of_faces.append(faces.tolist())\n",
    "        else:\n",
    "            list_of_faces.append([])\n",
    "    return list_of_faces"
   ]
  },
  {
   "cell_type": "code",
   "execution_count": 8,
   "id": "78fb1b84",
   "metadata": {},
   "outputs": [],
   "source": [
    "# Function to create a contact sheet for detected faces\n",
    "def ready_contact_sheet(word, output_dir, zip_path):\n",
    "    \"\"\"\n",
    "    Creates a contact sheet of detected faces from images containing a specific keyword.\n",
    "    Args:\n",
    "        word (str): The keyword to search for in the images' text.\n",
    "        output_dir (str): The directory to store extracted images.\n",
    "        zip_path (str): The path to the ZIP file containing images.\n",
    "    \"\"\"\n",
    "    extract_zip(zip_path, output_dir)\n",
    "    record = access_file(output_dir)\n",
    "    faces = rec_faces(output_dir)\n",
    "    text = read_text_from_files(output_dir)\n",
    "    metas = zip(record, faces, text)\n",
    "    face_images = []\n",
    "\n",
    "    for meta in metas:\n",
    "        if word in meta[2]:\n",
    "            record = meta[0]\n",
    "            faces = meta[1]\n",
    "            image = Image.open(output_dir + \"/\" + record)\n",
    "            img_copy = image.copy()\n",
    "            smaller_list = []\n",
    "\n",
    "            # Crop and resize detected faces\n",
    "            for (x, y, w, h) in faces:\n",
    "                bounds = x, y, x + w, y + h\n",
    "                cropped_image = img_copy.crop(bounds)\n",
    "                cropped_image_copy = cropped_image.copy()\n",
    "                cropped_image_copy.thumbnail((100, 100))\n",
    "                smaller_list.append(cropped_image_copy)\n",
    "\n",
    "            face_images.append(smaller_list)\n",
    "\n",
    "            # Handle case where no faces are found\n",
    "            if smaller_list == []:\n",
    "                return (\"Results found but there were no faces in {}\".format(record))\n",
    "\n",
    "            # Create the contact sheet\n",
    "            first_image = smaller_list[0]\n",
    "            contact_sheet = Image.new(first_image.mode, (first_image.width * 5, first_image.height * 2))\n",
    "            x = 0\n",
    "            y = 0\n",
    "            for i, img in enumerate(smaller_list):\n",
    "                contact_sheet.paste(img, (x, y))\n",
    "                x = x + first_image.width\n",
    "                if x >= (first_image.width * 5):\n",
    "                    x = 0\n",
    "                    y = y + first_image.height\n",
    "            print(\"Results found in {}\".format(record))\n",
    "            display(contact_sheet)"
   ]
  },
  {
   "cell_type": "code",
   "execution_count": null,
   "id": "7ecfb132",
   "metadata": {},
   "outputs": [],
   "source": [
    "# Example function call:\n",
    "# Uncomment the line below to run the function with your parameters\n",
    "# ready_contact_sheet(\"Mark\", \"output_directory\", \"/path/to/images.zip\")"
   ]
  }
 ],
 "metadata": {
  "kernelspec": {
   "display_name": "Python 3.12.7 ('myenv')",
   "language": "python",
   "name": "python3"
  },
  "language_info": {
   "codemirror_mode": {
    "name": "ipython",
    "version": 3
   },
   "file_extension": ".py",
   "mimetype": "text/x-python",
   "name": "python",
   "nbconvert_exporter": "python",
   "pygments_lexer": "ipython3",
   "version": "3.12.7"
  },
  "vscode": {
   "interpreter": {
    "hash": "63c49e8d1e646aa190844836d1cfc5ee1f530ae32fef9584fc84302df7dcdbd1"
   }
  }
 },
 "nbformat": 4,
 "nbformat_minor": 5
}
